{
 "cells": [
  {
   "cell_type": "code",
   "execution_count": null,
   "id": "d7c9ca6f",
   "metadata": {},
   "outputs": [],
   "source": []
  },
  {
   "cell_type": "code",
   "execution_count": null,
   "id": "070551ad",
   "metadata": {},
   "outputs": [],
   "source": []
  },
  {
   "cell_type": "markdown",
   "id": "a27af911",
   "metadata": {},
   "source": [
    "# Python basic\n",
    "\n",
    "1. case sensitive\n",
    "2. slower than other programming language\n",
    "3. but there are soo many libraries\n",
    "4. Its design philosophy emphasizes code readability with the use of significant indentation\n",
    "5. It supports multiple programming paradigms, including structured, object-oriented and functional programming\n",
    "\n",
    "6. Python is a high-level, general-purpose programming language( is a programming language designed to be used for building software in a wide variety of application domains, across a multitude of hardware configurations and operating systems ex.  functional programming, datascience,html, website,oops)\n",
    "\n",
    "7.Python is an object-oriented, high-level programming language. Object-oriented means this language is based around objects (such as data) rather than functions, and high-level means it's easy for humans to understand\n",
    "8.easy to learn --> simple easy english language\n",
    "9. In python there are diff inbuilt function from this it is easy to make diff program in short period of time\n",
    "10. interpreted language --> execute code one by one line\n",
    "            "
   ]
  },
  {
   "cell_type": "code",
   "execution_count": null,
   "id": "eff14e53",
   "metadata": {},
   "outputs": [],
   "source": []
  },
  {
   "cell_type": "code",
   "execution_count": 97,
   "id": "1bed8599",
   "metadata": {},
   "outputs": [
    {
     "name": "stdout",
     "output_type": "stream",
     "text": [
      "40\n"
     ]
    }
   ],
   "source": [
    "# write a program to print sum of two no\n",
    "\n",
    "#a,b = 10,10\n",
    "#a=b=20\n",
    "a =15\n",
    "b = 10\n",
    "print(a+b)"
   ]
  },
  {
   "cell_type": "code",
   "execution_count": null,
   "id": "d20894df",
   "metadata": {},
   "outputs": [],
   "source": []
  },
  {
   "cell_type": "code",
   "execution_count": 98,
   "id": "09a4fa97",
   "metadata": {},
   "outputs": [
    {
     "data": {
      "text/plain": [
       "35.88"
      ]
     },
     "execution_count": 98,
     "metadata": {},
     "output_type": "execute_result"
    }
   ],
   "source": [
    "# ROUND FUNCTION\n",
    "\n",
    "round(25.8834534534 + 10, 2)"
   ]
  },
  {
   "cell_type": "code",
   "execution_count": null,
   "id": "07eb47f6",
   "metadata": {},
   "outputs": [],
   "source": []
  },
  {
   "cell_type": "markdown",
   "id": "67bcf37f",
   "metadata": {},
   "source": [
    "The separator between the arguments to print() function in Python is space by default (softspace feature) , which can be modified and can be made to any character, integer or string as per our choice. The ‘sep’ parameter is used to achieve the same, it is found only in python 3.x or later. It is also used for formatting the output strings\n",
    "\n",
    "\n",
    "SEP DEFAULT VALUE IS \" \" --> SPACE\n",
    "END DEFAULT VALUE IS \"/n\"  --> new line"
   ]
  },
  {
   "cell_type": "code",
   "execution_count": 101,
   "id": "f60c47e2",
   "metadata": {},
   "outputs": [
    {
     "name": "stdout",
     "output_type": "stream",
     "text": [
      "Hello*1*4.5*True\n"
     ]
    }
   ],
   "source": [
    "print('Hello',1,4.5,True,sep='*')"
   ]
  },
  {
   "cell_type": "code",
   "execution_count": null,
   "id": "38f1b808",
   "metadata": {},
   "outputs": [],
   "source": [
    "print()"
   ]
  },
  {
   "cell_type": "code",
   "execution_count": null,
   "id": "92901809",
   "metadata": {},
   "outputs": [],
   "source": []
  },
  {
   "cell_type": "code",
   "execution_count": 65,
   "id": "dc4d8754",
   "metadata": {},
   "outputs": [
    {
     "name": "stdout",
     "output_type": "stream",
     "text": [
      "i m 26 year\n"
     ]
    }
   ],
   "source": [
    "print('i','m',26,'year' )"
   ]
  },
  {
   "cell_type": "code",
   "execution_count": null,
   "id": "ffff5659",
   "metadata": {},
   "outputs": [],
   "source": [
    "20/04/1996"
   ]
  },
  {
   "cell_type": "code",
   "execution_count": 110,
   "id": "1bdd8671",
   "metadata": {},
   "outputs": [
    {
     "name": "stdout",
     "output_type": "stream",
     "text": [
      "09/12/2016\n"
     ]
    }
   ],
   "source": [
    "print('09','12','2016', sep='/')"
   ]
  },
  {
   "cell_type": "markdown",
   "id": "c30e83cf",
   "metadata": {},
   "source": [
    "By default Python‘s print() function ends with a newline. Python’s print() function comes with a parameter called ‘end‘. By default, the value of this parameter is ‘\\n’, i.e. the new line character"
   ]
  },
  {
   "cell_type": "code",
   "execution_count": 104,
   "id": "94157b2b",
   "metadata": {},
   "outputs": [
    {
     "name": "stdout",
     "output_type": "stream",
     "text": [
      "Welcome to my notes\n"
     ]
    }
   ],
   "source": [
    "\n",
    "# ends the output with a space\n",
    "print(\"Welcome to\", end = ' ')\n",
    "print(\"my notes\")"
   ]
  },
  {
   "cell_type": "code",
   "execution_count": null,
   "id": "5a5e685c",
   "metadata": {},
   "outputs": [],
   "source": [
    "*\n",
    "**\n",
    "***\n",
    "****"
   ]
  },
  {
   "cell_type": "code",
   "execution_count": 107,
   "id": "d5a533dd",
   "metadata": {},
   "outputs": [
    {
     "name": "stdout",
     "output_type": "stream",
     "text": [
      "\n",
      "\n",
      "*\n",
      "\n",
      "*\n",
      "**\n",
      "\n",
      "*\n",
      "**\n",
      "***\n"
     ]
    }
   ],
   "source": [
    "for i in range(1,5):\n",
    "    for j in range(i):\n",
    "        print('*'*j)"
   ]
  },
  {
   "cell_type": "code",
   "execution_count": 108,
   "id": "988720fc",
   "metadata": {},
   "outputs": [
    {
     "name": "stdout",
     "output_type": "stream",
     "text": [
      "*\n",
      "**\n",
      "***\n",
      "****\n"
     ]
    }
   ],
   "source": [
    "for i in range(1,5):\n",
    "    print('*'*i)"
   ]
  },
  {
   "cell_type": "code",
   "execution_count": null,
   "id": "c849de8c",
   "metadata": {},
   "outputs": [],
   "source": []
  },
  {
   "cell_type": "markdown",
   "id": "9b52cf77",
   "metadata": {},
   "source": [
    "# Rules for Naming an Identifier\n",
    "\n",
    "1.Identifiers cannot be a keyword.\n",
    "2.Identifiers are case-sensitive.\n",
    "3.It can have a sequence of letters and digits. However, it must begin with a letter or _. The first   letter of an identifier cannot be a digit.\n",
    "4. It's a convention to start an identifier with a letter rather _.\n",
    "5.Whitespaces are not allowed.\n",
    "6. We cannot use special symbols like !, @, #, $, and so on"
   ]
  },
  {
   "cell_type": "code",
   "execution_count": null,
   "id": "cd1222a3",
   "metadata": {},
   "outputs": [],
   "source": []
  },
  {
   "cell_type": "markdown",
   "id": "8bf62443",
   "metadata": {},
   "source": [
    "# Reserved words in Python --> keywords\n",
    "\n",
    "https://docs.python.org/2.5/ref/keywords.html\n",
    "\n",
    "1.We should not use reserved words as variable names\n",
    "2.Also python doesn't restrict the user to use reserved keywords as variable names"
   ]
  },
  {
   "cell_type": "code",
   "execution_count": null,
   "id": "031bca88",
   "metadata": {},
   "outputs": [],
   "source": []
  },
  {
   "cell_type": "code",
   "execution_count": 95,
   "id": "569178fd",
   "metadata": {},
   "outputs": [
    {
     "name": "stdout",
     "output_type": "stream",
     "text": [
      "['False', 'None', 'True', '__peg_parser__', 'and', 'as', 'assert', 'async', 'await', 'break', 'class', 'continue', 'def', 'del', 'elif', 'else', 'except', 'finally', 'for', 'from', 'global', 'if', 'import', 'in', 'is', 'lambda', 'nonlocal', 'not', 'or', 'pass', 'raise', 'return', 'try', 'while', 'with', 'yield']\n"
     ]
    }
   ],
   "source": [
    "import keyword\n",
    "print(keyword.kwlist)"
   ]
  },
  {
   "cell_type": "code",
   "execution_count": 8,
   "id": "6ad2a4d3",
   "metadata": {},
   "outputs": [],
   "source": [
    "a, b, c, yes = 1, 50.2, \"RATAN\", True"
   ]
  },
  {
   "cell_type": "code",
   "execution_count": 11,
   "id": "1ef7d5c3",
   "metadata": {},
   "outputs": [
    {
     "name": "stdout",
     "output_type": "stream",
     "text": [
      "1 <class 'int'>\n",
      "50.2 <class 'float'>\n",
      "RATAN <class 'str'>\n",
      "True <class 'bool'>\n"
     ]
    }
   ],
   "source": [
    "print(a,type(a))\n",
    "print(b,type(b))\n",
    "print(c,type(c))\n",
    "print(yes,type(yes))\n"
   ]
  },
  {
   "cell_type": "markdown",
   "id": "651a677e",
   "metadata": {},
   "source": [
    "# CASE SENSITIVE"
   ]
  },
  {
   "cell_type": "code",
   "execution_count": 12,
   "id": "447d8671",
   "metadata": {},
   "outputs": [
    {
     "name": "stdout",
     "output_type": "stream",
     "text": [
      "10 11\n"
     ]
    }
   ],
   "source": [
    "a = 10\n",
    "A= 11\n",
    "print(a,A)"
   ]
  },
  {
   "cell_type": "code",
   "execution_count": null,
   "id": "a889584c",
   "metadata": {},
   "outputs": [],
   "source": []
  },
  {
   "cell_type": "code",
   "execution_count": 44,
   "id": "809de9fd",
   "metadata": {},
   "outputs": [
    {
     "name": "stdout",
     "output_type": "stream",
     "text": [
      "gmail id is : ratan.jha@gamil.com\n"
     ]
    }
   ],
   "source": [
    "# ANOTHER WAY TO WRITE PRINT STATEMENT\n",
    "\n",
    "firstName, middleName, sirName = \"ratan\", \"kumar\", \"jha\"\n",
    "print(f\"gmail id is : {firstName}.{sirName}@gamil.com\")"
   ]
  },
  {
   "cell_type": "code",
   "execution_count": null,
   "id": "a36eb714",
   "metadata": {},
   "outputs": [],
   "source": []
  },
  {
   "cell_type": "markdown",
   "id": "ba46c8f9",
   "metadata": {},
   "source": [
    "# comment\n",
    "\n",
    "#single line comment\n",
    "\n",
    "\"\"\"\n",
    "multiple line comment\n",
    "\"\"\""
   ]
  },
  {
   "cell_type": "code",
   "execution_count": 18,
   "id": "086e2137",
   "metadata": {},
   "outputs": [
    {
     "name": "stdout",
     "output_type": "stream",
     "text": [
      "\n",
      "My name is: ratan\n",
      "I live at: delhi\n",
      "I was born in: 1996\n",
      "My weight is: 85.88 in Kgs\n",
      "height is: 6 ft\n",
      "\n"
     ]
    }
   ],
   "source": [
    "\n",
    "\n",
    "name, place, year_of_birth, weight,height = \"ratan\", \"delhi\", 1996, 85.88, 6\n",
    "print(f\"\"\"\n",
    "My name is: {name}\n",
    "I live at: {place}\n",
    "I was born in: {year_of_birth}\n",
    "My weight is: {weight} in Kgs\n",
    "height is: {height} ft\n",
    "\"\"\")"
   ]
  },
  {
   "cell_type": "code",
   "execution_count": 111,
   "id": "14c7cb63",
   "metadata": {},
   "outputs": [
    {
     "name": "stdout",
     "output_type": "stream",
     "text": [
      "Enter your Name: ra\n",
      "You have entered: ra\n"
     ]
    }
   ],
   "source": [
    "#  INPUT FUNCTION --> STR type\n",
    "\n",
    "name = input(\"Enter your Name: \")\n",
    "print(f\"You have entered: {name}\")"
   ]
  },
  {
   "cell_type": "code",
   "execution_count": null,
   "id": "4ef424d4",
   "metadata": {},
   "outputs": [],
   "source": [
    "ra\n"
   ]
  },
  {
   "cell_type": "code",
   "execution_count": null,
   "id": "643a398c",
   "metadata": {},
   "outputs": [],
   "source": []
  },
  {
   "cell_type": "code",
   "execution_count": null,
   "id": "9d326c23",
   "metadata": {},
   "outputs": [],
   "source": [
    "# WRITE A PROGRAM , TAKE 2 STR AS INPUT  AND PRINT THE STRING"
   ]
  },
  {
   "cell_type": "code",
   "execution_count": null,
   "id": "5741579b",
   "metadata": {},
   "outputs": [],
   "source": [
    "# WRITE A PROGRAM , TAKE 2 NO. AS INPUT  AND PRINT THE SUM OF THAT NO"
   ]
  },
  {
   "cell_type": "code",
   "execution_count": null,
   "id": "7c1b9d71",
   "metadata": {},
   "outputs": [],
   "source": [
    "WRITE A PROGRAM , TAKE A 5 DIGIT NUMBER AND PRINT THE SUM OF THAT 5 DIGIT\n"
   ]
  },
  {
   "cell_type": "code",
   "execution_count": 114,
   "id": "d0888358",
   "metadata": {},
   "outputs": [
    {
     "name": "stdout",
     "output_type": "stream",
     "text": [
      "enter a 5 digit no12345\n",
      "1\n",
      "3\n",
      "6\n",
      "10\n",
      "15\n",
      "15\n"
     ]
    }
   ],
   "source": [
    "n= int(input(\"enter a 5 digit no\"))\n",
    "sum = 0\n",
    "for i in str(n):\n",
    "    sum = sum + int(i)\n",
    "    #print(sum)\n",
    "print(sum)"
   ]
  },
  {
   "cell_type": "code",
   "execution_count": 20,
   "id": "3eb884e5",
   "metadata": {},
   "outputs": [
    {
     "name": "stdout",
     "output_type": "stream",
     "text": [
      "Enter value of A: 4\n",
      "Enter value of B: 4\n"
     ]
    },
    {
     "ename": "TypeError",
     "evalue": "unsupported operand type(s) for +: 'int' and 'str'",
     "output_type": "error",
     "traceback": [
      "\u001b[1;31m---------------------------------------------------------------------------\u001b[0m",
      "\u001b[1;31mTypeError\u001b[0m                                 Traceback (most recent call last)",
      "Input \u001b[1;32mIn [20]\u001b[0m, in \u001b[0;36m<cell line: 4>\u001b[1;34m()\u001b[0m\n\u001b[0;32m      1\u001b[0m A \u001b[38;5;241m=\u001b[39m \u001b[38;5;28mint\u001b[39m (\u001b[38;5;28minput\u001b[39m(\u001b[38;5;124m\"\u001b[39m\u001b[38;5;124mEnter value of A: \u001b[39m\u001b[38;5;124m\"\u001b[39m))\n\u001b[0;32m      2\u001b[0m B \u001b[38;5;241m=\u001b[39m \u001b[38;5;28minput\u001b[39m(\u001b[38;5;124m\"\u001b[39m\u001b[38;5;124mEnter value of B: \u001b[39m\u001b[38;5;124m\"\u001b[39m)\n\u001b[1;32m----> 4\u001b[0m \u001b[38;5;28mprint\u001b[39m(\u001b[38;5;124mf\u001b[39m\u001b[38;5;124m\"\u001b[39m\u001b[38;5;124mSum of A and B is: \u001b[39m\u001b[38;5;132;01m{\u001b[39;00mA\u001b[38;5;241m+\u001b[39mB\u001b[38;5;132;01m}\u001b[39;00m\u001b[38;5;124m\"\u001b[39m)\n\u001b[0;32m      5\u001b[0m \u001b[38;5;28mprint\u001b[39m(\u001b[38;5;28mtype\u001b[39m(A), \u001b[38;5;28mtype\u001b[39m(B))\n",
      "\u001b[1;31mTypeError\u001b[0m: unsupported operand type(s) for +: 'int' and 'str'"
     ]
    }
   ],
   "source": [
    "# SHOW ERROR BCZ ONE IS INT TYPE AND ANOTHER A STR TYPE\n",
    "A = int (input(\"Enter value of A: \"))\n",
    "B = input(\"Enter value of B: \")\n",
    "\n",
    "print(f\"Sum of A and B is: {A+B}\")\n",
    "print(type(A), type(B))"
   ]
  },
  {
   "cell_type": "code",
   "execution_count": null,
   "id": "af4e99cf",
   "metadata": {},
   "outputs": [],
   "source": []
  },
  {
   "cell_type": "code",
   "execution_count": null,
   "id": "f698a374",
   "metadata": {},
   "outputs": [],
   "source": [
    "# CALCULATE YOUR AGE\n",
    "\n",
    "name = input(\"Name: \") # always gives you string values\n",
    "place = input(\"place: \")\n",
    "year_of_birth = int(input(\"year_of_birth: \"))\n",
    "\n",
    "age = 2022 - year_of_birth   # -->  'int' and 'str'\n",
    "\n",
    "print(f\"\"\"\n",
    "My name is: {name}\n",
    "I live at: {place}\n",
    "{name} is of age: {age}\n",
    "\"\"\")"
   ]
  },
  {
   "cell_type": "code",
   "execution_count": null,
   "id": "fc930958",
   "metadata": {},
   "outputs": [],
   "source": []
  },
  {
   "cell_type": "markdown",
   "id": "0edbbe8f",
   "metadata": {},
   "source": [
    "# DATA TYPE\n",
    "\n",
    "1. int    --> max - 1*10^308 (1e308)\n",
    "2. float   -- > max (1.7e308)\n",
    "3. str     --> \"ratan\"\n",
    "4. boolean --> True, Flase\n",
    "5. complex   --> 1+2j\n",
    "6. list []  -->[1,2,3,4]\n",
    "7. dictionary  {}  -->{key value pair}\n",
    "8. tuple ()    -->(1,2,3,\"dfa\")\n",
    "9. set {} -- > no duplicate\n"
   ]
  },
  {
   "cell_type": "code",
   "execution_count": null,
   "id": "8f6262e7",
   "metadata": {},
   "outputs": [],
   "source": []
  },
  {
   "cell_type": "markdown",
   "id": "d88c084e",
   "metadata": {},
   "source": [
    " # Type conversion¶\n",
    "We can convert the data type of one variable into another if it is allowed"
   ]
  },
  {
   "cell_type": "code",
   "execution_count": 115,
   "id": "0da6a64d",
   "metadata": {},
   "outputs": [
    {
     "name": "stdout",
     "output_type": "stream",
     "text": [
      "Enter value of A: ratan\n",
      "Enter value of B: k\n",
      "<class 'str'> <class 'str'>\n"
     ]
    }
   ],
   "source": [
    "A = input(\"Enter value of A: \")\n",
    "B = input(\"Enter value of B: \")\n",
    "\n",
    "print(type(A), type(B))"
   ]
  },
  {
   "cell_type": "code",
   "execution_count": 27,
   "id": "c8dc4770",
   "metadata": {},
   "outputs": [
    {
     "name": "stdout",
     "output_type": "stream",
     "text": [
      "Enter value of A: 4\n",
      "Enter value of B: 3\n",
      "<class 'int'> <class 'int'>\n"
     ]
    }
   ],
   "source": [
    "A = int(input(\"Enter value of A: \"))\n",
    "B = int(input(\"Enter value of B: \"))\n",
    "\n",
    "print(type(A), type(B))"
   ]
  },
  {
   "cell_type": "code",
   "execution_count": 117,
   "id": "fe03b5a2",
   "metadata": {},
   "outputs": [
    {
     "name": "stdout",
     "output_type": "stream",
     "text": [
      "Enter value of A: 4\n",
      "Enter value of B: 4\n",
      "Sum of A and B is: 8.0\n",
      "<class 'float'>\n"
     ]
    }
   ],
   "source": [
    "A = float(input(\"Enter value of A: \"))\n",
    "B = float(input(\"Enter value of B: \"))\n",
    "\n",
    "print(f\"Sum of A and B is: {A+B}\")\n",
    "print(type(A))"
   ]
  },
  {
   "cell_type": "code",
   "execution_count": 118,
   "id": "dfac13f6",
   "metadata": {},
   "outputs": [
    {
     "data": {
      "text/plain": [
       "8.5"
      ]
     },
     "execution_count": 118,
     "metadata": {},
     "output_type": "execute_result"
    }
   ],
   "source": [
    "4+4.5"
   ]
  },
  {
   "cell_type": "code",
   "execution_count": 119,
   "id": "b5422569",
   "metadata": {},
   "outputs": [
    {
     "ename": "TypeError",
     "evalue": "unsupported operand type(s) for +: 'int' and 'str'",
     "output_type": "error",
     "traceback": [
      "\u001b[1;31m---------------------------------------------------------------------------\u001b[0m",
      "\u001b[1;31mTypeError\u001b[0m                                 Traceback (most recent call last)",
      "Input \u001b[1;32mIn [119]\u001b[0m, in \u001b[0;36m<cell line: 1>\u001b[1;34m()\u001b[0m\n\u001b[1;32m----> 1\u001b[0m \u001b[38;5;241;43m4\u001b[39;49m\u001b[43m \u001b[49m\u001b[38;5;241;43m+\u001b[39;49m\u001b[43m \u001b[49m\u001b[38;5;124;43m'\u001b[39;49m\u001b[38;5;124;43mmadhukar\u001b[39;49m\u001b[38;5;124;43m'\u001b[39;49m\n",
      "\u001b[1;31mTypeError\u001b[0m: unsupported operand type(s) for +: 'int' and 'str'"
     ]
    }
   ],
   "source": [
    "4 + 'madhukar'"
   ]
  },
  {
   "cell_type": "code",
   "execution_count": 24,
   "id": "0a87e4d2",
   "metadata": {},
   "outputs": [
    {
     "data": {
      "text/plain": [
       "2"
      ]
     },
     "execution_count": 24,
     "metadata": {},
     "output_type": "execute_result"
    }
   ],
   "source": [
    "a =[454353452,'dfsa']\n",
    "len(a)"
   ]
  },
  {
   "cell_type": "code",
   "execution_count": 121,
   "id": "7c606ea0",
   "metadata": {},
   "outputs": [
    {
     "data": {
      "text/plain": [
       "8"
      ]
     },
     "execution_count": 121,
     "metadata": {},
     "output_type": "execute_result"
    }
   ],
   "source": [
    "b= 3,4,5,2,3,5,4,3\n",
    "len(b)"
   ]
  },
  {
   "cell_type": "code",
   "execution_count": 29,
   "id": "ee4c4833",
   "metadata": {},
   "outputs": [
    {
     "name": "stdout",
     "output_type": "stream",
     "text": [
      "data type before: <class 'str'>, value of A: 50\n"
     ]
    }
   ],
   "source": [
    "# String to integer\n",
    "\n",
    "A = \"50\"\n",
    "print(f\"data type before: {type(A)}, value of A: {A}\")\n"
   ]
  },
  {
   "cell_type": "code",
   "execution_count": 30,
   "id": "e844232d",
   "metadata": {},
   "outputs": [
    {
     "name": "stdout",
     "output_type": "stream",
     "text": [
      "data type after: <class 'int'>, value of A: 50\n"
     ]
    }
   ],
   "source": [
    "A = int(A)\n",
    "print(f\"data type after: {type(A)}, value of A: {A}\")"
   ]
  },
  {
   "cell_type": "code",
   "execution_count": null,
   "id": "7829a8d3",
   "metadata": {},
   "outputs": [],
   "source": []
  },
  {
   "cell_type": "code",
   "execution_count": 31,
   "id": "4d352b1a",
   "metadata": {},
   "outputs": [
    {
     "name": "stdout",
     "output_type": "stream",
     "text": [
      "data type before: <class 'str'>, value of A: 50.22\n"
     ]
    },
    {
     "ename": "ValueError",
     "evalue": "invalid literal for int() with base 10: '50.22'",
     "output_type": "error",
     "traceback": [
      "\u001b[1;31m---------------------------------------------------------------------------\u001b[0m",
      "\u001b[1;31mValueError\u001b[0m                                Traceback (most recent call last)",
      "Input \u001b[1;32mIn [31]\u001b[0m, in \u001b[0;36m<cell line: 4>\u001b[1;34m()\u001b[0m\n\u001b[0;32m      2\u001b[0m A \u001b[38;5;241m=\u001b[39m \u001b[38;5;124m\"\u001b[39m\u001b[38;5;124m50.22\u001b[39m\u001b[38;5;124m\"\u001b[39m \u001b[38;5;66;03m# entering float\u001b[39;00m\n\u001b[0;32m      3\u001b[0m \u001b[38;5;28mprint\u001b[39m(\u001b[38;5;124mf\u001b[39m\u001b[38;5;124m\"\u001b[39m\u001b[38;5;124mdata type before: \u001b[39m\u001b[38;5;132;01m{\u001b[39;00m\u001b[38;5;28mtype\u001b[39m(A)\u001b[38;5;132;01m}\u001b[39;00m\u001b[38;5;124m, value of A: \u001b[39m\u001b[38;5;132;01m{\u001b[39;00mA\u001b[38;5;132;01m}\u001b[39;00m\u001b[38;5;124m\"\u001b[39m)\n\u001b[1;32m----> 4\u001b[0m A \u001b[38;5;241m=\u001b[39m \u001b[38;5;28;43mint\u001b[39;49m\u001b[43m(\u001b[49m\u001b[43mA\u001b[49m\u001b[43m)\u001b[49m \u001b[38;5;66;03m# trying to convert into integer\u001b[39;00m\n\u001b[0;32m      5\u001b[0m \u001b[38;5;28mprint\u001b[39m(\u001b[38;5;124mf\u001b[39m\u001b[38;5;124m\"\u001b[39m\u001b[38;5;124mdata type after: \u001b[39m\u001b[38;5;132;01m{\u001b[39;00m\u001b[38;5;28mtype\u001b[39m(A)\u001b[38;5;132;01m}\u001b[39;00m\u001b[38;5;124m, value of A: \u001b[39m\u001b[38;5;132;01m{\u001b[39;00mA\u001b[38;5;132;01m}\u001b[39;00m\u001b[38;5;124m\"\u001b[39m)\n",
      "\u001b[1;31mValueError\u001b[0m: invalid literal for int() with base 10: '50.22'"
     ]
    }
   ],
   "source": [
    "# String to integer\n",
    "A = \"50.22\" # entering float\n",
    "print(f\"data type before: {type(A)}, value of A: {A}\")\n",
    "A = int(A) # trying to convert into integer\n",
    "print(f\"data type after: {type(A)}, value of A: {A}\")"
   ]
  },
  {
   "cell_type": "code",
   "execution_count": 32,
   "id": "00c2f3b1",
   "metadata": {},
   "outputs": [
    {
     "name": "stdout",
     "output_type": "stream",
     "text": [
      "data type <class 'float'>, value of 50.6\n",
      "data type <class 'int'>, value of 50\n"
     ]
    }
   ],
   "source": [
    "# FLOAT TO INTEGER\n",
    "\n",
    "num = 50.60\n",
    "print(f\"data type {type(num)}, value of {num}\")\n",
    "num1 = int(num)\n",
    "print(f\"data type {type(num1)}, value of {num1}\")"
   ]
  },
  {
   "cell_type": "code",
   "execution_count": 33,
   "id": "7a9a0a84",
   "metadata": {},
   "outputs": [
    {
     "name": "stdout",
     "output_type": "stream",
     "text": [
      "data type <class 'int'>, value of 50\n",
      "data type <class 'float'>, value of 50.0\n"
     ]
    }
   ],
   "source": [
    "# integer to flaot \n",
    "\n",
    "num = 50\n",
    "print(f\"data type {type(num)}, value of {num}\")\n",
    "num1 = float(num)\n",
    "print(f\"data type {type(num1)}, value of {num1}\")"
   ]
  },
  {
   "cell_type": "code",
   "execution_count": 34,
   "id": "0ad20230",
   "metadata": {},
   "outputs": [
    {
     "name": "stdout",
     "output_type": "stream",
     "text": [
      "data type before: <class 'int'>, value of A: 10\n",
      "data type after: <class 'bool'>, value of A: True\n"
     ]
    }
   ],
   "source": [
    "# integer to boolean\n",
    "A = 10\n",
    "print(f\"data type before: {type(A)}, value of A: {A}\")\n",
    "A = bool(A)\n",
    "print(f\"data type after: {type(A)}, value of A: {A}\")"
   ]
  },
  {
   "cell_type": "markdown",
   "id": "53aca96e",
   "metadata": {},
   "source": [
    "True in binary - 1\n",
    "False in binary - 0"
   ]
  },
  {
   "cell_type": "code",
   "execution_count": 122,
   "id": "1e785c09",
   "metadata": {},
   "outputs": [
    {
     "name": "stdout",
     "output_type": "stream",
     "text": [
      "data type before: <class 'int'>, value of A: 0\n",
      "data type after: <class 'bool'>, value of A: False\n"
     ]
    }
   ],
   "source": [
    "# integer to boolean\n",
    "A = 0\n",
    "print(f\"data type before: {type(A)}, value of A: {A}\")\n",
    "A = bool(A)\n",
    "print(f\"data type after: {type(A)}, value of A: {A}\")"
   ]
  },
  {
   "cell_type": "code",
   "execution_count": 123,
   "id": "da8095da",
   "metadata": {},
   "outputs": [
    {
     "data": {
      "text/plain": [
       "6"
      ]
     },
     "execution_count": 123,
     "metadata": {},
     "output_type": "execute_result"
    }
   ],
   "source": [
    "True+5"
   ]
  },
  {
   "cell_type": "code",
   "execution_count": 124,
   "id": "24f4617a",
   "metadata": {},
   "outputs": [
    {
     "data": {
      "text/plain": [
       "6"
      ]
     },
     "execution_count": 124,
     "metadata": {},
     "output_type": "execute_result"
    }
   ],
   "source": [
    "False +6"
   ]
  },
  {
   "cell_type": "code",
   "execution_count": 125,
   "id": "9303e7a4",
   "metadata": {},
   "outputs": [
    {
     "name": "stdout",
     "output_type": "stream",
     "text": [
      "data type before: <class 'int'>, value of A: 1\n",
      "data type after: <class 'bool'>, value of A: True\n"
     ]
    }
   ],
   "source": [
    "# integer to boolean\n",
    "A = 1\n",
    "print(f\"data type before: {type(A)}, value of A: {A}\")\n",
    "A = bool(A)\n",
    "print(f\"data type after: {type(A)}, value of A: {A}\")"
   ]
  },
  {
   "cell_type": "code",
   "execution_count": null,
   "id": "d17c4b34",
   "metadata": {},
   "outputs": [],
   "source": []
  },
  {
   "cell_type": "code",
   "execution_count": 126,
   "id": "98f76535",
   "metadata": {},
   "outputs": [
    {
     "data": {
      "text/plain": [
       "str"
      ]
     },
     "execution_count": 126,
     "metadata": {},
     "output_type": "execute_result"
    }
   ],
   "source": []
  },
  {
   "cell_type": "markdown",
   "id": "ddce5ef3",
   "metadata": {},
   "source": [
    "NOTE: Converting any non zero number and string values into boolean will give True as an answer\n",
    "\n",
    "NOTE: Empty string \"\" will give False as an answer after converting from string to boolean"
   ]
  },
  {
   "cell_type": "code",
   "execution_count": 38,
   "id": "1e0d68ab",
   "metadata": {},
   "outputs": [
    {
     "name": "stdout",
     "output_type": "stream",
     "text": [
      "data type before: <class 'str'>, value of A: ratan\n",
      "data type after: <class 'bool'>, value of A: True\n"
     ]
    }
   ],
   "source": [
    "A = \"ratan\"\n",
    "print(f\"data type before: {type(A)}, value of A: {A}\")\n",
    "A = bool(A)\n",
    "print(f\"data type after: {type(A)}, value of A: {A}\")"
   ]
  },
  {
   "cell_type": "code",
   "execution_count": 129,
   "id": "a5165514",
   "metadata": {},
   "outputs": [
    {
     "name": "stdout",
     "output_type": "stream",
     "text": [
      "data type before: <class 'str'>, value of A: \n",
      "data type after: <class 'bool'>, value of A: False\n"
     ]
    }
   ],
   "source": [
    "# empty string to boolean\n",
    "A = \"\"\n",
    "print(f\"data type before: {type(A)}, value of A: {A}\")\n",
    "A = bool(A)\n",
    "print(f\"data type after: {type(A)}, value of A: {A}\")"
   ]
  },
  {
   "cell_type": "code",
   "execution_count": 132,
   "id": "2c338a60",
   "metadata": {},
   "outputs": [
    {
     "name": "stdout",
     "output_type": "stream",
     "text": [
      "data type before: <class 'str'>, value of A: False\n",
      "data type after: <class 'bool'>, value of A: True\n"
     ]
    }
   ],
   "source": [
    "# string to boolean\n",
    "A = \"False\"\n",
    "print(f\"data type before: {type(A)}, value of A: {A}\")\n",
    "A = bool(A)\n",
    "print(f\"data type after: {type(A)}, value of A: {A}\")"
   ]
  },
  {
   "cell_type": "code",
   "execution_count": null,
   "id": "3ffd0a42",
   "metadata": {},
   "outputs": [],
   "source": []
  },
  {
   "cell_type": "code",
   "execution_count": 133,
   "id": "2e4275b2",
   "metadata": {},
   "outputs": [
    {
     "name": "stdout",
     "output_type": "stream",
     "text": [
      "data type before: <class 'str'>, value of A: \n"
     ]
    },
    {
     "ename": "ValueError",
     "evalue": "invalid literal for int() with base 10: ''",
     "output_type": "error",
     "traceback": [
      "\u001b[1;31m---------------------------------------------------------------------------\u001b[0m",
      "\u001b[1;31mValueError\u001b[0m                                Traceback (most recent call last)",
      "Input \u001b[1;32mIn [133]\u001b[0m, in \u001b[0;36m<cell line: 4>\u001b[1;34m()\u001b[0m\n\u001b[0;32m      2\u001b[0m A \u001b[38;5;241m=\u001b[39m \u001b[38;5;124m\"\u001b[39m\u001b[38;5;124m\"\u001b[39m\n\u001b[0;32m      3\u001b[0m \u001b[38;5;28mprint\u001b[39m(\u001b[38;5;124mf\u001b[39m\u001b[38;5;124m\"\u001b[39m\u001b[38;5;124mdata type before: \u001b[39m\u001b[38;5;132;01m{\u001b[39;00m\u001b[38;5;28mtype\u001b[39m(A)\u001b[38;5;132;01m}\u001b[39;00m\u001b[38;5;124m, value of A: \u001b[39m\u001b[38;5;132;01m{\u001b[39;00mA\u001b[38;5;132;01m}\u001b[39;00m\u001b[38;5;124m\"\u001b[39m)\n\u001b[1;32m----> 4\u001b[0m A \u001b[38;5;241m=\u001b[39m \u001b[38;5;28;43mint\u001b[39;49m\u001b[43m(\u001b[49m\u001b[43mA\u001b[49m\u001b[43m)\u001b[49m\n\u001b[0;32m      5\u001b[0m \u001b[38;5;28mprint\u001b[39m(\u001b[38;5;124mf\u001b[39m\u001b[38;5;124m\"\u001b[39m\u001b[38;5;124mdata type after: \u001b[39m\u001b[38;5;132;01m{\u001b[39;00m\u001b[38;5;28mtype\u001b[39m(A)\u001b[38;5;132;01m}\u001b[39;00m\u001b[38;5;124m, value of A: \u001b[39m\u001b[38;5;132;01m{\u001b[39;00mA\u001b[38;5;132;01m}\u001b[39;00m\u001b[38;5;124m\"\u001b[39m)\n",
      "\u001b[1;31mValueError\u001b[0m: invalid literal for int() with base 10: ''"
     ]
    }
   ],
   "source": [
    "# empty string to int\n",
    "A = \"fasdfasdfasdf\"\n",
    "print(f\"data type before: {type(A)}, value of A: {A}\")\n",
    "A = int(A)\n",
    "print(f\"data type after: {type(A)}, value of A: {A}\")"
   ]
  },
  {
   "cell_type": "code",
   "execution_count": null,
   "id": "eaa37c2d",
   "metadata": {},
   "outputs": [],
   "source": []
  },
  {
   "cell_type": "markdown",
   "id": "a6413eb0",
   "metadata": {},
   "source": [
    "## Memory block\n",
    "\n",
    "* use id"
   ]
  },
  {
   "cell_type": "code",
   "execution_count": 42,
   "id": "f5a7f736",
   "metadata": {},
   "outputs": [
    {
     "data": {
      "text/plain": [
       "2096235112784"
      ]
     },
     "execution_count": 42,
     "metadata": {},
     "output_type": "execute_result"
    }
   ],
   "source": [
    "a= 2\n",
    "id(a)"
   ]
  },
  {
   "cell_type": "code",
   "execution_count": 43,
   "id": "a7c713cd",
   "metadata": {},
   "outputs": [
    {
     "name": "stdout",
     "output_type": "stream",
     "text": [
      "2096235618096 2096235112752 2096241265072\n"
     ]
    }
   ],
   "source": [
    "a = \"r\"\n",
    "b = 1\n",
    "c = \"R\"\n",
    "\n",
    "print(id(a), id(b), id(c))"
   ]
  },
  {
   "cell_type": "code",
   "execution_count": null,
   "id": "96f7db9c",
   "metadata": {},
   "outputs": [],
   "source": []
  },
  {
   "cell_type": "markdown",
   "id": "a1fb2ba3",
   "metadata": {},
   "source": [
    "write a program display this series\n",
    "*\n",
    "**\n",
    "***\n",
    "****\n",
    "*****"
   ]
  },
  {
   "cell_type": "code",
   "execution_count": null,
   "id": "66d5b7a9",
   "metadata": {},
   "outputs": [],
   "source": []
  },
  {
   "cell_type": "markdown",
   "id": "c661a2fe",
   "metadata": {},
   "source": [
    "# variables\n",
    "variable --> they are container for future use\n",
    "like if are making a website.  and we print hello(name_of_user )\n",
    "name =\"ratan\"\n",
    "print(name)\n",
    "\n",
    "\n",
    "1. static vs dynamic typing\n",
    "2. static vs dynamic binding\n",
    "3. stylish declaration technique "
   ]
  },
  {
   "cell_type": "markdown",
   "id": "705dc8f7",
   "metadata": {},
   "source": [
    "# static vs dynamic typing\n",
    "\n",
    "In python we dont declare the data type of the variable. python interperator will automatically undertand the datatype of the varible\n",
    "\n",
    "    STATIC TYPING\n",
    "IN other language  we have to assign the datatype of the variable ex C -->  int a = 5\n",
    "C interperater will not able to understand the data type automatically"
   ]
  },
  {
   "cell_type": "markdown",
   "id": "19539109",
   "metadata": {},
   "source": [
    "#  static vs dynamic binding\n",
    "\n",
    "a= 1    \n",
    "print(a)\n",
    "a=\"ratan\"\n",
    "print(a)\n",
    "\n",
    "DYNAMIC BINDING\n",
    "\n",
    "in python when we print this . This will give both output without any error.  In same variable \"a\"\" it store both the data type value\n",
    "\n",
    "STATIC BINDING\n",
    "\n",
    "IN OTHER LANGUAGE LIKE C,C++,JAVA -->  if we intialize \"a\" as int  ( int a = 4).  then in the whole program we can,t change the datatype of this.\n",
    "\n"
   ]
  },
  {
   "cell_type": "markdown",
   "id": "de49afe5",
   "metadata": {},
   "source": [
    "# stylish declaration technique \n",
    "\n",
    "a=1\n",
    "b=2\n",
    "c=3\n",
    "print(a,b,c)\n",
    "\n",
    "\n",
    "or\n",
    "\n",
    "a,b,c=1,2,3\n",
    "print(a,b,c)\n",
    "\n",
    "or\n",
    "\n",
    "a=b=c=5\n",
    "print(a,b,c)"
   ]
  },
  {
   "cell_type": "code",
   "execution_count": null,
   "id": "3143d391",
   "metadata": {},
   "outputs": [],
   "source": []
  },
  {
   "cell_type": "markdown",
   "id": "6e894746",
   "metadata": {},
   "source": [
    "## CONDITIONAL STATMENT (IF ELSE)\n",
    "\n",
    "```python\n",
    "if condition:\n",
    "    print(\"execute this statement\")\n",
    "else:\n",
    "    print(\"if condition is not True\")\n",
    "```"
   ]
  },
  {
   "cell_type": "code",
   "execution_count": 76,
   "id": "e4baf894",
   "metadata": {},
   "outputs": [
    {
     "name": "stdout",
     "output_type": "stream",
     "text": [
      "dont want to study\n"
     ]
    }
   ],
   "source": [
    "# EX\n",
    "# want to study or not\n",
    "\n",
    "mood = False\n",
    "if mood:\n",
    "    print(\"want to study\")\n",
    "else:\n",
    "    print(\"dont want to study\")"
   ]
  },
  {
   "cell_type": "code",
   "execution_count": null,
   "id": "c4e4f78b",
   "metadata": {},
   "outputs": [],
   "source": []
  },
  {
   "cell_type": "code",
   "execution_count": 78,
   "id": "25d8014d",
   "metadata": {},
   "outputs": [
    {
     "name": "stdout",
     "output_type": "stream",
     "text": [
      "it is raining\n"
     ]
    }
   ],
   "source": [
    "raining = True\n",
    "\n",
    "if  raining:\n",
    "    print(\"it is raining\")  \n",
    "else:\n",
    "    print(\"not raining\")"
   ]
  },
  {
   "cell_type": "code",
   "execution_count": null,
   "id": "649dc2e6",
   "metadata": {},
   "outputs": [],
   "source": []
  },
  {
   "cell_type": "code",
   "execution_count": null,
   "id": "c9a5f0ed",
   "metadata": {},
   "outputs": [],
   "source": []
  },
  {
   "cell_type": "markdown",
   "id": "c061cb44",
   "metadata": {},
   "source": [
    "##  Logical opertors \n",
    "\n",
    "Keywords | Meaning\n",
    "- | - \n",
    "not | \n",
    "and | conditional AND\n",
    "or | conditional OR"
   ]
  },
  {
   "cell_type": "code",
   "execution_count": 94,
   "id": "c74d477a",
   "metadata": {},
   "outputs": [
    {
     "name": "stdout",
     "output_type": "stream",
     "text": [
      "0\n",
      "1\n",
      "False\n"
     ]
    }
   ],
   "source": [
    "print(1 and 0)\n",
    "\n",
    "print(1 or 0)\n",
    "\n",
    "print(not 1)"
   ]
  },
  {
   "cell_type": "code",
   "execution_count": null,
   "id": "4e5326e5",
   "metadata": {},
   "outputs": [],
   "source": []
  },
  {
   "cell_type": "code",
   "execution_count": 136,
   "id": "16b50e6a",
   "metadata": {},
   "outputs": [
    {
     "name": "stdout",
     "output_type": "stream",
     "text": [
      "not interested\n"
     ]
    }
   ],
   "source": [
    "end_to_end_project  = True\n",
    "\n",
    "if not end_to_end_project:\n",
    "    print(\"not interested\")\n",
    "else:\n",
    "    print(\"very much interested\")"
   ]
  },
  {
   "cell_type": "code",
   "execution_count": null,
   "id": "ef2802ed",
   "metadata": {},
   "outputs": [],
   "source": []
  },
  {
   "cell_type": "markdown",
   "id": "df6b5b7d",
   "metadata": {},
   "source": [
    "### and\t - conditional AND"
   ]
  },
  {
   "cell_type": "markdown",
   "id": "cbdce4f1",
   "metadata": {},
   "source": [
    "datascience | placement | job\n",
    "- | - | -\n",
    "False | False | False\n",
    "False | True | False\n",
    "True | False | False\n",
    "True | True | True"
   ]
  },
  {
   "cell_type": "code",
   "execution_count": 139,
   "id": "106710c3",
   "metadata": {},
   "outputs": [
    {
     "name": "stdout",
     "output_type": "stream",
     "text": [
      "GET JOB  AND GET MONEY FUN TRAVELLING\n"
     ]
    }
   ],
   "source": [
    "data_science = True\n",
    "placement = True\n",
    "\n",
    "if data_science and placement:\n",
    "    print(\"GET JOB  AND GET MONEY FUN TRAVELLING\")\n",
    "else:\n",
    "    print(\"NOTHING GET and WORK HARD\")\n"
   ]
  },
  {
   "cell_type": "code",
   "execution_count": null,
   "id": "838b426c",
   "metadata": {},
   "outputs": [],
   "source": []
  },
  {
   "cell_type": "markdown",
   "id": "93ddb778",
   "metadata": {},
   "source": [
    "### or conditional OR\n",
    "\n",
    "if I have a car or bike then I can travel 100kms in a day\n",
    "\n",
    "Car | Bike | Travel_100_kms\n",
    "- | - | -\n",
    "False | False | False\n",
    "False | True | True\n",
    "True | False | True\n",
    "True | True | True"
   ]
  },
  {
   "cell_type": "code",
   "execution_count": 140,
   "id": "17549424",
   "metadata": {},
   "outputs": [
    {
     "name": "stdout",
     "output_type": "stream",
     "text": [
      "I can travel 100 kms in a day!\n"
     ]
    }
   ],
   "source": [
    "i_own_car = True\n",
    "i_own_bike = False\n",
    "\n",
    "if i_own_car or i_own_bike:\n",
    "    print(\"I can travel 100 kms in a day!\")\n",
    "else:\n",
    "    print(\"I am stuck as I don't have car or bike!\")"
   ]
  },
  {
   "cell_type": "code",
   "execution_count": null,
   "id": "c068a979",
   "metadata": {},
   "outputs": [],
   "source": []
  },
  {
   "cell_type": "markdown",
   "id": "b9f05e29",
   "metadata": {},
   "source": [
    "## Conclusion - \n",
    "1. use and operator when you want all the condition to be true\n",
    "2. use or operator if anyone of the condition you want to be true "
   ]
  },
  {
   "cell_type": "code",
   "execution_count": null,
   "id": "d9a6f0af",
   "metadata": {},
   "outputs": [],
   "source": []
  },
  {
   "cell_type": "code",
   "execution_count": 141,
   "id": "b6ee2821",
   "metadata": {},
   "outputs": [
    {
     "name": "stdout",
     "output_type": "stream",
     "text": [
      "what u want in starter chinese\n",
      "what u want to eat in main_course japanese\n",
      "me khana nahi khaunga\n"
     ]
    }
   ],
   "source": [
    "starter = input(\"what u want in starter \")\n",
    "main_course = input(\"what u want to eat in main_course \")\n",
    "\n",
    "if starter == \"chinese\" and main_course == \"indian\":\n",
    "    print(\"mai khana khaunga\")\n",
    "else:\n",
    "    print(\"me khana nahi khaunga\")"
   ]
  },
  {
   "cell_type": "code",
   "execution_count": null,
   "id": "c4975397",
   "metadata": {},
   "outputs": [],
   "source": [
    "starter = input(\"what u want in starter \")\n",
    "main_course = input(\"what u want to eat in main_course \")\n",
    "\n",
    "if starter == \"chainese\" or main_course == \"indian\":\n",
    "    print(\"mai khana khaunga\")\n",
    "else:\n",
    "    print(\"me khana nahi khaunga\")"
   ]
  },
  {
   "cell_type": "code",
   "execution_count": null,
   "id": "0bf5eb77",
   "metadata": {},
   "outputs": [],
   "source": []
  },
  {
   "cell_type": "code",
   "execution_count": null,
   "id": "1d348c6c",
   "metadata": {},
   "outputs": [],
   "source": [
    "\"\"\"\n",
    "write a program u r studing in intellipaat.  requirement for job gaurantee program is\n",
    "attendence = 90\n",
    "assignment = 70\n",
    "time_of_assignment_submission  should be less then = 30 days\n",
    "if all the codition is true then will come under the job gaurantee program\n",
    "otherwise kuch nahi millenga.\n",
    "\"\"\"\n",
    "\n",
    "\"\"\"\n",
    "same above program is any one of the condition is correct\n",
    "\"\"\""
   ]
  },
  {
   "cell_type": "code",
   "execution_count": 86,
   "id": "7bdc4df5",
   "metadata": {},
   "outputs": [
    {
     "name": "stdout",
     "output_type": "stream",
     "text": [
      "attendence criteria met? : True\n",
      "assignment criteria met? : True\n",
      "assignment criteria met? : True\n",
      "u will come under job guarantee program\n"
     ]
    }
   ],
   "source": [
    "attendence = 100\n",
    "assignment = 80\n",
    "time_of_assignment_submission = 25\n",
    "\n",
    "print(f\"attendence criteria met? : {attendence >= 90}\")\n",
    "print(f\"assignment criteria met? : {assignment >= 80}\")\n",
    "print(f\"assignment criteria met? : {time_of_assignment_submission  <= 30}\")\n",
    "\n",
    "if attendence >= 90 and assignment >= 80 and time_of_assignment_submission <= 30:\n",
    "    print(\"u will come under job guarantee program\")\n",
    "else:\n",
    "    print(\"kuch nahi millenga\")"
   ]
  },
  {
   "cell_type": "code",
   "execution_count": null,
   "id": "b9ec03d8",
   "metadata": {},
   "outputs": [],
   "source": []
  },
  {
   "cell_type": "code",
   "execution_count": 87,
   "id": "8f9b0d8d",
   "metadata": {},
   "outputs": [
    {
     "name": "stdout",
     "output_type": "stream",
     "text": [
      "Ask from a dad for debit or credit card?\n",
      "cash on delivery?\n"
     ]
    }
   ],
   "source": [
    "own_credit_card = False\n",
    "own_debit_card = False\n",
    "\n",
    "if own_credit_card or own_debit_card:\n",
    "    print(\"proceed further for payment\")\n",
    "else:\n",
    "    print(\"Ask from a dad for debit or credit card?\")\n",
    "    print(\"cash on delivery?\")"
   ]
  },
  {
   "cell_type": "code",
   "execution_count": null,
   "id": "c21eabaa",
   "metadata": {},
   "outputs": [],
   "source": []
  },
  {
   "cell_type": "markdown",
   "id": "c3236c4c",
   "metadata": {},
   "source": [
    "## and or together\n",
    "\n",
    "attendance | assignment | sports_player | eligible_for_exam\n",
    "- | - | - | -\n",
    ">=75% | >=70% | False | True\n",
    ">=75% | >=70% | True | True"
   ]
  },
  {
   "cell_type": "code",
   "execution_count": 90,
   "id": "e1432f18",
   "metadata": {},
   "outputs": [
    {
     "name": "stdout",
     "output_type": "stream",
     "text": [
      "attendence criteria met? : True\n",
      "assignment criteria met? : True\n",
      "sports criteria met? : False\n",
      "The student is eligible to appear in final exam\n"
     ]
    }
   ],
   "source": [
    "attendance = 75\n",
    "assignment_submitted = 80\n",
    "sports_player = True\n",
    "\n",
    "print(f\"attendence criteria met? : {attendance >= 75}\")\n",
    "print(f\"assignment criteria met? : {assignment_submitted >= 70}\")\n",
    "print(f\"sports criteria met? : {sports_player}\")\n",
    "\n",
    "if attendance >= 75 and assignment_submitted >= 70:\n",
    "    if sports_player:\n",
    "        print(\"The student is eligible to appear in final exam and get 5% extra marks\")\n",
    "    else:\n",
    "        print(\"The student is eligible to appear in final exam\")\n",
    "else:\n",
    "    print(\"The student is not eligible\")"
   ]
  },
  {
   "cell_type": "code",
   "execution_count": null,
   "id": "4695267b",
   "metadata": {},
   "outputs": [],
   "source": []
  },
  {
   "cell_type": "markdown",
   "id": "7a1ffa74",
   "metadata": {},
   "source": [
    "# equality operator"
   ]
  },
  {
   "cell_type": "markdown",
   "id": "c95eae82",
   "metadata": {},
   "source": [
    "Operator | uses | Meaning\n",
    "- | - | -\n",
    "is | A is B=> | return True if A and B points to the same object   \n",
    "is not | A is not B | returns True if A and B do not points to the same object\n",
    "== | A == B | A is equal to B\n",
    "!= | A != B | A is not equal to B\n",
    "\n",
    "When using `is` then we are also comparing memory location\n",
    "When using `is not` then we are also comparing memory location\n",
    "\n",
    "== and != is only checking value of the variables [Used more offently or frequently]"
   ]
  },
  {
   "cell_type": "code",
   "execution_count": 93,
   "id": "ae03c468",
   "metadata": {},
   "outputs": [
    {
     "name": "stdout",
     "output_type": "stream",
     "text": [
      "A and B are same\n"
     ]
    }
   ],
   "source": [
    "A = 1\n",
    "B = 1\n",
    "\n",
    "if A is B:\n",
    "    print(\"A and B are same\")\n",
    "else:\n",
    "    print(\"A and B are not same\")"
   ]
  },
  {
   "cell_type": "code",
   "execution_count": null,
   "id": "552ea12d",
   "metadata": {},
   "outputs": [],
   "source": [
    "A = 1\n",
    "B = 2\n",
    "\n",
    "if A is not B:\n",
    "    print(\"A and B are not same\")\n",
    "else:\n",
    "    print(\"A and B are same\")"
   ]
  },
  {
   "cell_type": "code",
   "execution_count": null,
   "id": "f1460d58",
   "metadata": {},
   "outputs": [],
   "source": [
    "A = 1\n",
    "B = 1\n",
    "\n",
    "if A == B: # A and B are having same value\n",
    "    print(\"A and B are same\")\n",
    "else:\n",
    "    print(\"A and B are not same\")"
   ]
  },
  {
   "cell_type": "code",
   "execution_count": null,
   "id": "8f06d894",
   "metadata": {},
   "outputs": [],
   "source": [
    "A = 1\n",
    "B = 2\n",
    "\n",
    "if A != B:\n",
    "    print(\"A and B are not same\")\n",
    "else:\n",
    "    print(\"A and B are same\")"
   ]
  },
  {
   "cell_type": "code",
   "execution_count": 143,
   "id": "304b9a30",
   "metadata": {},
   "outputs": [
    {
     "name": "stdout",
     "output_type": "stream",
     "text": [
      "Enter the value of B: 2\n"
     ]
    },
    {
     "data": {
      "text/plain": [
       "False"
      ]
     },
     "execution_count": 143,
     "metadata": {},
     "output_type": "execute_result"
    }
   ],
   "source": [
    "A = 1\n",
    "B = int(input(\"Enter the value of B: \"))\n",
    "\n",
    "A is B"
   ]
  },
  {
   "cell_type": "code",
   "execution_count": null,
   "id": "155cb4c5",
   "metadata": {},
   "outputs": [],
   "source": []
  },
  {
   "cell_type": "code",
   "execution_count": null,
   "id": "0d5e7247",
   "metadata": {},
   "outputs": [],
   "source": [
    "# write a program that user enter a password  and this input password match the password\n",
    "# if not match then say the plz enter the password again"
   ]
  },
  {
   "cell_type": "code",
   "execution_count": 91,
   "id": "4fd6da8f",
   "metadata": {},
   "outputs": [],
   "source": [
    "\n",
    "\n",
    "\n"
   ]
  },
  {
   "cell_type": "markdown",
   "id": "2886eb46",
   "metadata": {},
   "source": [
    "### Comparision\n",
    "\n",
    "Operation | Meaning\n",
    "- | -\n",
    "< | A < B \n",
    "<= | A <= B\n",
    "> | A > B \n",
    ">= | A >= B"
   ]
  },
  {
   "cell_type": "code",
   "execution_count": null,
   "id": "c24541f0",
   "metadata": {},
   "outputs": [],
   "source": [
    "your_score = 40\n",
    "passing_marks = 33.33\n",
    "\n",
    "if your_score >= 33.33:\n",
    "    print(f\"Since you have scored: {your_score}, you have passed the exams!\")\n",
    "else:\n",
    "    print(\"Dad: You should have taken things seriously!\")"
   ]
  },
  {
   "cell_type": "code",
   "execution_count": null,
   "id": "119ed381",
   "metadata": {},
   "outputs": [],
   "source": []
  },
  {
   "cell_type": "code",
   "execution_count": null,
   "id": "b7064b2b",
   "metadata": {},
   "outputs": [],
   "source": []
  },
  {
   "cell_type": "code",
   "execution_count": null,
   "id": "eb1bfac8",
   "metadata": {},
   "outputs": [],
   "source": []
  },
  {
   "cell_type": "code",
   "execution_count": null,
   "id": "7bc088cd",
   "metadata": {},
   "outputs": [],
   "source": []
  },
  {
   "cell_type": "code",
   "execution_count": null,
   "id": "216682a7",
   "metadata": {},
   "outputs": [],
   "source": []
  },
  {
   "cell_type": "code",
   "execution_count": null,
   "id": "02fdb878",
   "metadata": {},
   "outputs": [],
   "source": []
  },
  {
   "cell_type": "code",
   "execution_count": null,
   "id": "6e7dbf14",
   "metadata": {},
   "outputs": [],
   "source": []
  },
  {
   "cell_type": "code",
   "execution_count": null,
   "id": "7da7ae22",
   "metadata": {},
   "outputs": [],
   "source": []
  }
 ],
 "metadata": {
  "kernelspec": {
   "display_name": "Python 3 (ipykernel)",
   "language": "python",
   "name": "python3"
  },
  "language_info": {
   "codemirror_mode": {
    "name": "ipython",
    "version": 3
   },
   "file_extension": ".py",
   "mimetype": "text/x-python",
   "name": "python",
   "nbconvert_exporter": "python",
   "pygments_lexer": "ipython3",
   "version": "3.9.12"
  }
 },
 "nbformat": 4,
 "nbformat_minor": 5
}
