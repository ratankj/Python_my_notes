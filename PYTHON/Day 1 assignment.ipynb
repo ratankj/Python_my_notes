{
 "cells": [
  {
   "cell_type": "markdown",
   "metadata": {
    "id": "A05OG15VqOPF"
   },
   "source": [
    "# Task  1\n"
   ]
  },
  {
   "cell_type": "markdown",
   "metadata": {
    "id": "2doIXf8bqe9_"
   },
   "source": [
    "### Q1 :- Print the given strings as per stated format.\n",
    "\n",
    "**Given strings**: \n",
    "```\n",
    "\"We\"  \"Try\" \"to\" \"Learn\" \"Data\" \"Science\" \n",
    "```\n",
    "**Output**: \n",
    "``` \n",
    "we-try-to-learn-Data-Science\n",
    "```\n",
    "\n",
    "Concept- [Seperator and End]"
   ]
  },
  {
   "cell_type": "code",
   "execution_count": null,
   "metadata": {
    "id": "-em6d3KErDtp"
   },
   "outputs": [],
   "source": [
    "# Write your code here"
   ]
  },
  {
   "cell_type": "markdown",
   "metadata": {
    "id": "1KUpN7ZTrC3_"
   },
   "source": [
    "### Q2:- Write a program that will convert celsius value to fahrenheit."
   ]
  },
  {
   "cell_type": "code",
   "execution_count": null,
   "metadata": {
    "id": "yxKYhYQiqWfj"
   },
   "outputs": [],
   "source": [
    "# Write your code here"
   ]
  },
  {
   "cell_type": "markdown",
   "metadata": {
    "id": "RLrOBBJurLB2"
   },
   "source": [
    "### Q3:- Take 2 numbers as input from the user.Write a program to swap the numbers without using any special python syntax."
   ]
  },
  {
   "cell_type": "code",
   "execution_count": null,
   "metadata": {
    "id": "yPn7if0TrJ4F"
   },
   "outputs": [],
   "source": [
    "# Write your code here"
   ]
  },
  {
   "cell_type": "markdown",
   "metadata": {
    "id": "waLCP1bjr7ML"
   },
   "source": [
    "### Q4:- Write a program to find the euclidean distance between two coordinates.Take both the coordinates from the user as input."
   ]
  },
  {
   "cell_type": "code",
   "execution_count": null,
   "metadata": {
    "id": "Pl1Sv-xnrxnH"
   },
   "outputs": [],
   "source": [
    "# Write your code here"
   ]
  },
  {
   "cell_type": "markdown",
   "metadata": {
    "id": "VLrhg-FRsHjR"
   },
   "source": [
    "### Q5:- Write a program to find the simple interest when the value of principle,rate of interest and time period is provided by the user.\n"
   ]
  },
  {
   "cell_type": "code",
   "execution_count": null,
   "metadata": {
    "id": "s40DlReZsTmY"
   },
   "outputs": [],
   "source": [
    "# Write your code here"
   ]
  },
  {
   "cell_type": "markdown",
   "metadata": {
    "id": "LMy0BTUktYKa"
   },
   "source": [
    "### Q6:- Write a program that will tell the number of dogs and chicken are there when the user will provide the value of total heads and legs.\n",
    "\n",
    "For example:\n",
    "Input:\n",
    "heads -> 4\n",
    "legs -> 12\n",
    "<br>\n",
    "Output:\n",
    "dogs -> 2\n",
    "chicken -> 2\n",
    "\n",
    "\n",
    "\n"
   ]
  },
  {
   "cell_type": "code",
   "execution_count": null,
   "metadata": {
    "id": "XSBvJoA4tXaG"
   },
   "outputs": [],
   "source": [
    "# Write your code here"
   ]
  },
  {
   "cell_type": "markdown",
   "metadata": {
    "id": "gJ7C5kZYt4BP"
   },
   "source": [
    "### Q7:- Write a program to find the sum of squares of first n natural numbers where n will be provided by the user."
   ]
  },
  {
   "cell_type": "code",
   "execution_count": null,
   "metadata": {
    "id": "_tHsmEHzt2nX"
   },
   "outputs": [],
   "source": [
    "# Write your code here"
   ]
  },
  {
   "cell_type": "markdown",
   "metadata": {
    "id": "FHrMM7g-yG1h"
   },
   "source": [
    "### Q8:- take a 5 digit input from the user and add them "
   ]
  },
  {
   "cell_type": "code",
   "execution_count": null,
   "metadata": {
    "id": "go4_kmZmyVSx"
   },
   "outputs": [],
   "source": [
    "# Write your code here"
   ]
  },
  {
   "cell_type": "markdown",
   "metadata": {
    "id": "QgyRX_es1oum"
   },
   "source": [
    "### Q9:- Given 2 fractions, find the sum of those 2 fractions.Take the numerator and denominator values of the fractions from the user."
   ]
  },
  {
   "cell_type": "code",
   "execution_count": null,
   "metadata": {
    "id": "X05xqFS1yW16"
   },
   "outputs": [],
   "source": [
    "# Write your code here"
   ]
  },
  {
   "cell_type": "markdown",
   "metadata": {
    "id": "eaql38ln13u7"
   },
   "source": [
    "### Q10:- Given the height, width and breadth of a milk tank, you have to find out how many glasses of milk can be obtained? Assume all the inputs are provided by the user.\n",
    "\n",
    "\n",
    "\n",
    "Input:<br>\n",
    "Dimensions of the milk tank<br>\n",
    "H = 20cm, L = 20cm, B = 20cm\n",
    "<br><br>\n",
    "Dimensions of the glass<br>\n",
    "h = 3cm, r = 1cm"
   ]
  },
  {
   "cell_type": "code",
   "execution_count": 6,
   "metadata": {
    "id": "FePZqno74eWv"
   },
   "outputs": [
    {
     "name": "stdout",
     "output_type": "stream",
     "text": [
      "enter the height of tank6\n",
      "enter the width of tank5\n",
      "enter the breath of tank3\n",
      "volume of tank is : 90\n",
      "volume of water occupied in 1 glass : 9.42\n",
      "10  : glass of milk can be obtained from the tank\n"
     ]
    }
   ],
   "source": [
    "height=int(input(\"enter the height of tank\"))\n",
    "width=int(input(\"enter the width of tank\"))\n",
    "breath=int(input(\"enter the breath of tank\"))\n",
    "h = int(input(\"enter the height of glass\"))\n",
    "r= int(input(\"enter the radius of glass\"))\n",
    "volume_tank= height * width * breath\n",
    "print(f\"volume of tank is : {volume_tank}\")\n",
    "volume_glass = 3.14 * r * r * h\n",
    "print(f\"volume of water occupied in 1 glass : {volume_glass}\")\n",
    "no_of_glass = round(volume_tank/volume_glass)\n",
    "print(f\"{no_of_glass}  : glass of milk can be obtained from the tank\")"
   ]
  },
  {
   "cell_type": "code",
   "execution_count": null,
   "metadata": {},
   "outputs": [],
   "source": []
  },
  {
   "cell_type": "code",
   "execution_count": null,
   "metadata": {},
   "outputs": [],
   "source": [
    "1. Write a Python program to print hello world ?\n",
    "2. Write a Python program to do arithmetical operations addition and division.?\n",
    "3. Write a Python program to find the area of a triangle?\n",
    "4. Write a Python program to swap two variables?\n",
    "5. Write a Python program to generate a random number?\n",
    "6. Write a Python program to convert kilometers to miles?\n",
    "\n",
    "7. Write a Python program to display calendar?\n",
    "8. Write a Python program to solve quadratic equation?"
   ]
  },
  {
   "cell_type": "code",
   "execution_count": null,
   "metadata": {},
   "outputs": [],
   "source": [
    "\n"
   ]
  },
  {
   "cell_type": "code",
   "execution_count": null,
   "metadata": {},
   "outputs": [],
   "source": []
  },
  {
   "cell_type": "code",
   "execution_count": null,
   "metadata": {},
   "outputs": [],
   "source": []
  },
  {
   "cell_type": "code",
   "execution_count": null,
   "metadata": {},
   "outputs": [],
   "source": []
  }
 ],
 "metadata": {
  "colab": {
   "provenance": []
  },
  "kernelspec": {
   "display_name": "Python 3 (ipykernel)",
   "language": "python",
   "name": "python3"
  },
  "language_info": {
   "codemirror_mode": {
    "name": "ipython",
    "version": 3
   },
   "file_extension": ".py",
   "mimetype": "text/x-python",
   "name": "python",
   "nbconvert_exporter": "python",
   "pygments_lexer": "ipython3",
   "version": "3.9.12"
  }
 },
 "nbformat": 4,
 "nbformat_minor": 1
}
